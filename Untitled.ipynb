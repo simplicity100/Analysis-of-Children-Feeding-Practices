{
 "cells": [
  {
   "cell_type": "code",
   "execution_count": 1,
   "id": "074e966f",
   "metadata": {},
   "outputs": [
    {
     "name": "stderr",
     "output_type": "stream",
     "text": [
      "UsageError: Line magic function `%` not found.\n"
     ]
    }
   ],
   "source": [
    "# Use this cell to set up import statements for all of the packages that you\n",
    "import numpy as np\n",
    "import pandas as pd\n",
    "import matplotlib.pyplot as plt\n",
    "import seaborn as sns\n",
    "% matplotlib inline"
   ]
  },
  {
   "cell_type": "code",
   "execution_count": 2,
   "id": "61b8b36a",
   "metadata": {},
   "outputs": [],
   "source": [
    "# Load dataset\n",
    "df = pd.read_excel('Diet_Biodiversity_Vietnam.xlsx')"
   ]
  },
  {
   "cell_type": "code",
   "execution_count": 7,
   "id": "87e6f637",
   "metadata": {},
   "outputs": [],
   "source": [
    "#maximum display for columns\n",
    "pd.set_option('display.max_columns', None)"
   ]
  },
  {
   "cell_type": "code",
   "execution_count": 8,
   "id": "6327803e",
   "metadata": {},
   "outputs": [
    {
     "data": {
      "text/html": [
       "<div>\n",
       "<style scoped>\n",
       "    .dataframe tbody tr th:only-of-type {\n",
       "        vertical-align: middle;\n",
       "    }\n",
       "\n",
       "    .dataframe tbody tr th {\n",
       "        vertical-align: top;\n",
       "    }\n",
       "\n",
       "    .dataframe thead th {\n",
       "        text-align: right;\n",
       "    }\n",
       "</style>\n",
       "<table border=\"1\" class=\"dataframe\">\n",
       "  <thead>\n",
       "    <tr style=\"text-align: right;\">\n",
       "      <th></th>\n",
       "      <th>id</th>\n",
       "      <th>age</th>\n",
       "      <th>sex</th>\n",
       "      <th>childadult</th>\n",
       "      <th>country</th>\n",
       "      <th>season</th>\n",
       "      <th>proteintotal_g</th>\n",
       "      <th>fattotal_g</th>\n",
       "      <th>chototal_g</th>\n",
       "      <th>ca_mg</th>\n",
       "      <th>fe_mg</th>\n",
       "      <th>zn_mg</th>\n",
       "      <th>vitaraemcg</th>\n",
       "      <th>foodweight</th>\n",
       "      <th>folate_mcg</th>\n",
       "      <th>energy_kcal</th>\n",
       "      <th>vitamina_RE</th>\n",
       "      <th>vitaminc_mg</th>\n",
       "      <th>speciescount</th>\n",
       "      <th>ddscount10</th>\n",
       "      <th>ddscount21</th>\n",
       "      <th>ddscount27</th>\n",
       "      <th>vitamimanar</th>\n",
       "      <th>vitamimcnar</th>\n",
       "      <th>simpson</th>\n",
       "      <th>entropy</th>\n",
       "      <th>dissimilarity</th>\n",
       "      <th>zsimpson</th>\n",
       "      <th>zentropy</th>\n",
       "      <th>zdds</th>\n",
       "      <th>zdissimilarity</th>\n",
       "      <th>zMAR</th>\n",
       "      <th>zddscount10</th>\n",
       "      <th>zspeciescount</th>\n",
       "      <th>zfd</th>\n",
       "      <th>zn_mgnar</th>\n",
       "      <th>ca_mgnar</th>\n",
       "      <th>fe_mgnar</th>\n",
       "      <th>folate_mcgnar</th>\n",
       "      <th>MAR</th>\n",
       "      <th>meanprob</th>\n",
       "      <th>fd</th>\n",
       "    </tr>\n",
       "  </thead>\n",
       "  <tbody>\n",
       "    <tr>\n",
       "      <th>0</th>\n",
       "      <td>1</td>\n",
       "      <td>24</td>\n",
       "      <td>male</td>\n",
       "      <td>child</td>\n",
       "      <td>Vietnam</td>\n",
       "      <td>dry and plenty season of agric produce</td>\n",
       "      <td>93.424872</td>\n",
       "      <td>49.934346</td>\n",
       "      <td>379.462014</td>\n",
       "      <td>544.159998</td>\n",
       "      <td>14.646743</td>\n",
       "      <td>15.714275</td>\n",
       "      <td>0</td>\n",
       "      <td>868.352806</td>\n",
       "      <td>149.164787</td>\n",
       "      <td>2242.380398</td>\n",
       "      <td>1135.306384</td>\n",
       "      <td>22.300847</td>\n",
       "      <td>7.0</td>\n",
       "      <td>5</td>\n",
       "      <td>7</td>\n",
       "      <td>9</td>\n",
       "      <td>1.000000</td>\n",
       "      <td>1.000000</td>\n",
       "      <td>0.932395</td>\n",
       "      <td>2.863999</td>\n",
       "      <td>0.249251</td>\n",
       "      <td>1.255923</td>\n",
       "      <td>1.314361</td>\n",
       "      <td>0.242226</td>\n",
       "      <td>-1.518586</td>\n",
       "      <td>1.388852</td>\n",
       "      <td>0.316459</td>\n",
       "      <td>-0.174297</td>\n",
       "      <td>0.314021</td>\n",
       "      <td>1.0</td>\n",
       "      <td>1.000000</td>\n",
       "      <td>0.378107</td>\n",
       "      <td>1.000000</td>\n",
       "      <td>0.896351</td>\n",
       "      <td>0.156519</td>\n",
       "      <td>0.442570</td>\n",
       "    </tr>\n",
       "    <tr>\n",
       "      <th>1</th>\n",
       "      <td>10</td>\n",
       "      <td>12</td>\n",
       "      <td>male</td>\n",
       "      <td>child</td>\n",
       "      <td>Vietnam</td>\n",
       "      <td>dry and plenty season of agric produce</td>\n",
       "      <td>59.506513</td>\n",
       "      <td>10.496200</td>\n",
       "      <td>730.441947</td>\n",
       "      <td>125.921000</td>\n",
       "      <td>8.626325</td>\n",
       "      <td>14.213554</td>\n",
       "      <td>0</td>\n",
       "      <td>942.466669</td>\n",
       "      <td>37.654000</td>\n",
       "      <td>2327.146667</td>\n",
       "      <td>1.513000</td>\n",
       "      <td>1.281000</td>\n",
       "      <td>8.0</td>\n",
       "      <td>3</td>\n",
       "      <td>5</td>\n",
       "      <td>6</td>\n",
       "      <td>0.007963</td>\n",
       "      <td>0.098538</td>\n",
       "      <td>0.794273</td>\n",
       "      <td>1.678917</td>\n",
       "      <td>0.698599</td>\n",
       "      <td>-1.130317</td>\n",
       "      <td>-1.447944</td>\n",
       "      <td>-0.174797</td>\n",
       "      <td>1.363452</td>\n",
       "      <td>-2.785312</td>\n",
       "      <td>-0.651053</td>\n",
       "      <td>-0.050962</td>\n",
       "      <td>-0.084946</td>\n",
       "      <td>1.0</td>\n",
       "      <td>0.251842</td>\n",
       "      <td>0.186027</td>\n",
       "      <td>0.313783</td>\n",
       "      <td>0.309692</td>\n",
       "      <td>0.055287</td>\n",
       "      <td>0.392715</td>\n",
       "    </tr>\n",
       "    <tr>\n",
       "      <th>2</th>\n",
       "      <td>100</td>\n",
       "      <td>24</td>\n",
       "      <td>female</td>\n",
       "      <td>child</td>\n",
       "      <td>Vietnam</td>\n",
       "      <td>dry and plenty season of agric produce</td>\n",
       "      <td>81.938201</td>\n",
       "      <td>53.993122</td>\n",
       "      <td>297.276322</td>\n",
       "      <td>220.044364</td>\n",
       "      <td>9.598182</td>\n",
       "      <td>13.021488</td>\n",
       "      <td>0</td>\n",
       "      <td>734.082545</td>\n",
       "      <td>152.926471</td>\n",
       "      <td>2002.799527</td>\n",
       "      <td>589.239100</td>\n",
       "      <td>15.897491</td>\n",
       "      <td>6.0</td>\n",
       "      <td>4</td>\n",
       "      <td>5</td>\n",
       "      <td>7</td>\n",
       "      <td>1.000000</td>\n",
       "      <td>1.000000</td>\n",
       "      <td>0.816440</td>\n",
       "      <td>1.934784</td>\n",
       "      <td>0.515786</td>\n",
       "      <td>-0.747357</td>\n",
       "      <td>-0.851545</td>\n",
       "      <td>-0.353521</td>\n",
       "      <td>0.190925</td>\n",
       "      <td>0.592894</td>\n",
       "      <td>-0.142802</td>\n",
       "      <td>-0.435194</td>\n",
       "      <td>-0.827848</td>\n",
       "      <td>1.0</td>\n",
       "      <td>0.440089</td>\n",
       "      <td>0.266809</td>\n",
       "      <td>1.000000</td>\n",
       "      <td>0.784483</td>\n",
       "      <td>0.138239</td>\n",
       "      <td>0.299883</td>\n",
       "    </tr>\n",
       "    <tr>\n",
       "      <th>3</th>\n",
       "      <td>101</td>\n",
       "      <td>23</td>\n",
       "      <td>female</td>\n",
       "      <td>adult</td>\n",
       "      <td>Vietnam</td>\n",
       "      <td>dry and plenty season of agric produce</td>\n",
       "      <td>138.613662</td>\n",
       "      <td>62.058965</td>\n",
       "      <td>419.439752</td>\n",
       "      <td>432.303117</td>\n",
       "      <td>18.039778</td>\n",
       "      <td>21.878646</td>\n",
       "      <td>0</td>\n",
       "      <td>1264.308696</td>\n",
       "      <td>219.538341</td>\n",
       "      <td>2790.373074</td>\n",
       "      <td>643.615020</td>\n",
       "      <td>42.094579</td>\n",
       "      <td>12.0</td>\n",
       "      <td>4</td>\n",
       "      <td>5</td>\n",
       "      <td>6</td>\n",
       "      <td>1.000000</td>\n",
       "      <td>1.000000</td>\n",
       "      <td>0.845273</td>\n",
       "      <td>2.169705</td>\n",
       "      <td>0.625475</td>\n",
       "      <td>-0.249226</td>\n",
       "      <td>-0.303966</td>\n",
       "      <td>-0.552103</td>\n",
       "      <td>0.894452</td>\n",
       "      <td>0.206226</td>\n",
       "      <td>-0.085681</td>\n",
       "      <td>0.781644</td>\n",
       "      <td>2.226830</td>\n",
       "      <td>1.0</td>\n",
       "      <td>0.540379</td>\n",
       "      <td>0.154397</td>\n",
       "      <td>0.686057</td>\n",
       "      <td>0.730139</td>\n",
       "      <td>0.107232</td>\n",
       "      <td>0.681592</td>\n",
       "    </tr>\n",
       "    <tr>\n",
       "      <th>4</th>\n",
       "      <td>102</td>\n",
       "      <td>24</td>\n",
       "      <td>male</td>\n",
       "      <td>child</td>\n",
       "      <td>Vietnam</td>\n",
       "      <td>dry and plenty season of agric produce</td>\n",
       "      <td>91.695294</td>\n",
       "      <td>84.446445</td>\n",
       "      <td>372.901352</td>\n",
       "      <td>181.125013</td>\n",
       "      <td>13.124619</td>\n",
       "      <td>16.759922</td>\n",
       "      <td>0</td>\n",
       "      <td>866.148746</td>\n",
       "      <td>81.479359</td>\n",
       "      <td>2612.228438</td>\n",
       "      <td>446.538448</td>\n",
       "      <td>5.501730</td>\n",
       "      <td>6.0</td>\n",
       "      <td>4</td>\n",
       "      <td>5</td>\n",
       "      <td>7</td>\n",
       "      <td>1.000000</td>\n",
       "      <td>0.423210</td>\n",
       "      <td>0.924029</td>\n",
       "      <td>2.694804</td>\n",
       "      <td>0.289564</td>\n",
       "      <td>1.111394</td>\n",
       "      <td>0.919984</td>\n",
       "      <td>-0.063591</td>\n",
       "      <td>-1.260026</td>\n",
       "      <td>-0.436864</td>\n",
       "      <td>-0.153002</td>\n",
       "      <td>-0.398928</td>\n",
       "      <td>-0.902570</td>\n",
       "      <td>1.0</td>\n",
       "      <td>0.362250</td>\n",
       "      <td>0.374078</td>\n",
       "      <td>0.678995</td>\n",
       "      <td>0.639755</td>\n",
       "      <td>0.083217</td>\n",
       "      <td>0.290546</td>\n",
       "    </tr>\n",
       "  </tbody>\n",
       "</table>\n",
       "</div>"
      ],
      "text/plain": [
       "    id  age     sex childadult  country  \\\n",
       "0    1   24    male      child  Vietnam   \n",
       "1   10   12    male      child  Vietnam   \n",
       "2  100   24  female      child  Vietnam   \n",
       "3  101   23  female      adult  Vietnam   \n",
       "4  102   24    male      child  Vietnam   \n",
       "\n",
       "                                   season  proteintotal_g  fattotal_g  \\\n",
       "0  dry and plenty season of agric produce       93.424872   49.934346   \n",
       "1  dry and plenty season of agric produce       59.506513   10.496200   \n",
       "2  dry and plenty season of agric produce       81.938201   53.993122   \n",
       "3  dry and plenty season of agric produce      138.613662   62.058965   \n",
       "4  dry and plenty season of agric produce       91.695294   84.446445   \n",
       "\n",
       "   chototal_g       ca_mg      fe_mg      zn_mg  vitaraemcg   foodweight  \\\n",
       "0  379.462014  544.159998  14.646743  15.714275           0   868.352806   \n",
       "1  730.441947  125.921000   8.626325  14.213554           0   942.466669   \n",
       "2  297.276322  220.044364   9.598182  13.021488           0   734.082545   \n",
       "3  419.439752  432.303117  18.039778  21.878646           0  1264.308696   \n",
       "4  372.901352  181.125013  13.124619  16.759922           0   866.148746   \n",
       "\n",
       "   folate_mcg  energy_kcal  vitamina_RE  vitaminc_mg  speciescount  \\\n",
       "0  149.164787  2242.380398  1135.306384    22.300847           7.0   \n",
       "1   37.654000  2327.146667     1.513000     1.281000           8.0   \n",
       "2  152.926471  2002.799527   589.239100    15.897491           6.0   \n",
       "3  219.538341  2790.373074   643.615020    42.094579          12.0   \n",
       "4   81.479359  2612.228438   446.538448     5.501730           6.0   \n",
       "\n",
       "   ddscount10  ddscount21  ddscount27  vitamimanar  vitamimcnar   simpson  \\\n",
       "0           5           7           9     1.000000     1.000000  0.932395   \n",
       "1           3           5           6     0.007963     0.098538  0.794273   \n",
       "2           4           5           7     1.000000     1.000000  0.816440   \n",
       "3           4           5           6     1.000000     1.000000  0.845273   \n",
       "4           4           5           7     1.000000     0.423210  0.924029   \n",
       "\n",
       "    entropy  dissimilarity  zsimpson  zentropy      zdds  zdissimilarity  \\\n",
       "0  2.863999       0.249251  1.255923  1.314361  0.242226       -1.518586   \n",
       "1  1.678917       0.698599 -1.130317 -1.447944 -0.174797        1.363452   \n",
       "2  1.934784       0.515786 -0.747357 -0.851545 -0.353521        0.190925   \n",
       "3  2.169705       0.625475 -0.249226 -0.303966 -0.552103        0.894452   \n",
       "4  2.694804       0.289564  1.111394  0.919984 -0.063591       -1.260026   \n",
       "\n",
       "       zMAR  zddscount10  zspeciescount       zfd  zn_mgnar  ca_mgnar  \\\n",
       "0  1.388852     0.316459      -0.174297  0.314021       1.0  1.000000   \n",
       "1 -2.785312    -0.651053      -0.050962 -0.084946       1.0  0.251842   \n",
       "2  0.592894    -0.142802      -0.435194 -0.827848       1.0  0.440089   \n",
       "3  0.206226    -0.085681       0.781644  2.226830       1.0  0.540379   \n",
       "4 -0.436864    -0.153002      -0.398928 -0.902570       1.0  0.362250   \n",
       "\n",
       "   fe_mgnar  folate_mcgnar       MAR  meanprob        fd  \n",
       "0  0.378107       1.000000  0.896351  0.156519  0.442570  \n",
       "1  0.186027       0.313783  0.309692  0.055287  0.392715  \n",
       "2  0.266809       1.000000  0.784483  0.138239  0.299883  \n",
       "3  0.154397       0.686057  0.730139  0.107232  0.681592  \n",
       "4  0.374078       0.678995  0.639755  0.083217  0.290546  "
      ]
     },
     "execution_count": 8,
     "metadata": {},
     "output_type": "execute_result"
    }
   ],
   "source": [
    "df.head()"
   ]
  },
  {
   "cell_type": "code",
   "execution_count": 9,
   "id": "58dcd3a2",
   "metadata": {},
   "outputs": [
    {
     "name": "stdout",
     "output_type": "stream",
     "text": [
      "<class 'pandas.core.frame.DataFrame'>\n",
      "RangeIndex: 1306 entries, 0 to 1305\n",
      "Data columns (total 42 columns):\n",
      " #   Column          Non-Null Count  Dtype  \n",
      "---  ------          --------------  -----  \n",
      " 0   id              1306 non-null   int64  \n",
      " 1   age             1306 non-null   int64  \n",
      " 2   sex             1306 non-null   object \n",
      " 3   childadult      1306 non-null   object \n",
      " 4   country         1306 non-null   object \n",
      " 5   season          1306 non-null   object \n",
      " 6   proteintotal_g  1306 non-null   float64\n",
      " 7   fattotal_g      1306 non-null   float64\n",
      " 8   chototal_g      1306 non-null   float64\n",
      " 9   ca_mg           1306 non-null   float64\n",
      " 10  fe_mg           1306 non-null   float64\n",
      " 11  zn_mg           1306 non-null   float64\n",
      " 12  vitaraemcg      1306 non-null   int64  \n",
      " 13  foodweight      1306 non-null   float64\n",
      " 14  folate_mcg      1306 non-null   float64\n",
      " 15  energy_kcal     1306 non-null   float64\n",
      " 16  vitamina_RE     1306 non-null   float64\n",
      " 17  vitaminc_mg     1306 non-null   float64\n",
      " 18  speciescount    1303 non-null   float64\n",
      " 19  ddscount10      1306 non-null   int64  \n",
      " 20  ddscount21      1306 non-null   int64  \n",
      " 21  ddscount27      1306 non-null   int64  \n",
      " 22  vitamimanar     1306 non-null   float64\n",
      " 23  vitamimcnar     1306 non-null   float64\n",
      " 24  simpson         1306 non-null   float64\n",
      " 25  entropy         1306 non-null   float64\n",
      " 26  dissimilarity   1306 non-null   float64\n",
      " 27  zsimpson        1306 non-null   float64\n",
      " 28  zentropy        1306 non-null   float64\n",
      " 29  zdds            1306 non-null   float64\n",
      " 30  zdissimilarity  1306 non-null   float64\n",
      " 31  zMAR            1306 non-null   float64\n",
      " 32  zddscount10     1306 non-null   float64\n",
      " 33  zspeciescount   1306 non-null   float64\n",
      " 34  zfd             1306 non-null   float64\n",
      " 35  zn_mgnar        1295 non-null   float64\n",
      " 36  ca_mgnar        1306 non-null   float64\n",
      " 37  fe_mgnar        1306 non-null   float64\n",
      " 38  folate_mcgnar   1306 non-null   float64\n",
      " 39  MAR             1295 non-null   float64\n",
      " 40  meanprob        1306 non-null   float64\n",
      " 41  fd              1303 non-null   float64\n",
      "dtypes: float64(32), int64(6), object(4)\n",
      "memory usage: 428.7+ KB\n"
     ]
    }
   ],
   "source": [
    "df.info()"
   ]
  },
  {
   "cell_type": "code",
   "execution_count": 10,
   "id": "dd958088",
   "metadata": {},
   "outputs": [
    {
     "data": {
      "text/plain": [
       "female    977\n",
       "male      329\n",
       "Name: sex, dtype: int64"
      ]
     },
     "execution_count": 10,
     "metadata": {},
     "output_type": "execute_result"
    }
   ],
   "source": [
    "df['sex'].value_counts()"
   ]
  },
  {
   "cell_type": "code",
   "execution_count": 11,
   "id": "6f32bcce",
   "metadata": {},
   "outputs": [
    {
     "data": {
      "text/plain": [
       "child    664\n",
       "adult    642\n",
       "Name: childadult, dtype: int64"
      ]
     },
     "execution_count": 11,
     "metadata": {},
     "output_type": "execute_result"
    }
   ],
   "source": [
    "df['childadult'].value_counts()"
   ]
  },
  {
   "cell_type": "code",
   "execution_count": 13,
   "id": "10c1d4af",
   "metadata": {},
   "outputs": [
    {
     "data": {
      "text/plain": [
       "Vietnam    1306\n",
       "Name: country, dtype: int64"
      ]
     },
     "execution_count": 13,
     "metadata": {},
     "output_type": "execute_result"
    }
   ],
   "source": [
    "df['country'].value_counts()"
   ]
  },
  {
   "cell_type": "code",
   "execution_count": 14,
   "id": "eac9efe2",
   "metadata": {},
   "outputs": [
    {
     "data": {
      "text/plain": [
       "dry and plenty season of agric produce            764\n",
       "lean and wet season - high availability of WEP    542\n",
       "Name: season, dtype: int64"
      ]
     },
     "execution_count": 14,
     "metadata": {},
     "output_type": "execute_result"
    }
   ],
   "source": [
    "df['season'].value_counts()"
   ]
  },
  {
   "cell_type": "code",
   "execution_count": 16,
   "id": "b1cd89c2",
   "metadata": {},
   "outputs": [
    {
     "data": {
      "text/plain": [
       "0    1306\n",
       "Name: vitaraemcg, dtype: int64"
      ]
     },
     "execution_count": 16,
     "metadata": {},
     "output_type": "execute_result"
    }
   ],
   "source": [
    "df['vitaraemcg'].value_counts()"
   ]
  },
  {
   "cell_type": "code",
   "execution_count": 17,
   "id": "52d1517b",
   "metadata": {},
   "outputs": [],
   "source": [
    "# drop country column\n",
    "df.drop(['country'], axis=1, inplace=True)"
   ]
  },
  {
   "cell_type": "code",
   "execution_count": 19,
   "id": "3b2d3dc7",
   "metadata": {},
   "outputs": [],
   "source": [
    "# sort rows based on \"id' in ascending Order\n",
    "sort_df = df.sort_values(by = 'id', ascending = True)"
   ]
  },
  {
   "cell_type": "code",
   "execution_count": 21,
   "id": "7ed9d1af",
   "metadata": {},
   "outputs": [],
   "source": [
    "#rename seasons\n",
    "sort_df['season'] = sort_df['season'].replace({'dry and plenty season of agric produce': 'dry & plenty', \n",
    "                                               'lean and wet season - high availability of WEP': 'lean & wet'})"
   ]
  },
  {
   "cell_type": "code",
   "execution_count": 22,
   "id": "14bf2547",
   "metadata": {},
   "outputs": [
    {
     "data": {
      "text/plain": [
       "dry & plenty    764\n",
       "lean & wet      542\n",
       "Name: season, dtype: int64"
      ]
     },
     "execution_count": 22,
     "metadata": {},
     "output_type": "execute_result"
    }
   ],
   "source": [
    "#confirm\n",
    "sort_df['season'].value_counts()"
   ]
  },
  {
   "cell_type": "code",
   "execution_count": 39,
   "id": "c5a48bb0",
   "metadata": {},
   "outputs": [],
   "source": [
    "sort_df.rename(columns = {'proteintotal_g':'Protein(g)', 'fattotal_g':'fat(g)',\n",
    "                              'chototal_g':'carbohydrate(g)', 'ca_mg':'Calcium(g)',\n",
    "                         'fe_mg':'Iron(g)', 'zn_mg':'Zinc(g)', 'vitaraemcg':'VitaminA(mcg)',\n",
    "                         'foodweight':'FoodWeight(g)', 'folate_mcg':'Folate(mcg)', 'energy_kcal':'Energy(Kcal)',\n",
    "                         'vitamina_RE':'VitaminA(RE)', 'vitaminc_mg':'VitaminC(mcg)'}, inplace = True)"
   ]
  },
  {
   "cell_type": "code",
   "execution_count": 40,
   "id": "aff3a230",
   "metadata": {},
   "outputs": [
    {
     "name": "stdout",
     "output_type": "stream",
     "text": [
      "<class 'pandas.core.frame.DataFrame'>\n",
      "Int64Index: 1306 entries, 0 to 1222\n",
      "Data columns (total 41 columns):\n",
      " #   Column           Non-Null Count  Dtype  \n",
      "---  ------           --------------  -----  \n",
      " 0   id               1306 non-null   int64  \n",
      " 1   age              1306 non-null   int64  \n",
      " 2   sex              1306 non-null   object \n",
      " 3   childadult       1306 non-null   object \n",
      " 4   season           1306 non-null   object \n",
      " 5   Protein_g        1306 non-null   float64\n",
      " 6   fat(g)           1306 non-null   float64\n",
      " 7   carbohydrate(g)  1306 non-null   float64\n",
      " 8   Calcium(mg)      1306 non-null   float64\n",
      " 9   Iron(mg)         1306 non-null   float64\n",
      " 10  Zinc(g)          1306 non-null   float64\n",
      " 11  VitaminA(mcg)    1306 non-null   int64  \n",
      " 12  FoodWeight(g)    1306 non-null   float64\n",
      " 13  Folate(mcg)      1306 non-null   float64\n",
      " 14  Energy(Kcal)     1306 non-null   float64\n",
      " 15  VitaminA(RE)     1306 non-null   float64\n",
      " 16  VitaminC(mcg)    1306 non-null   float64\n",
      " 17  speciescount     1303 non-null   float64\n",
      " 18  ddscount10       1306 non-null   int64  \n",
      " 19  ddscount21       1306 non-null   int64  \n",
      " 20  ddscount27       1306 non-null   int64  \n",
      " 21  vitamimanar      1306 non-null   float64\n",
      " 22  vitamimcnar      1306 non-null   float64\n",
      " 23  simpson          1306 non-null   float64\n",
      " 24  entropy          1306 non-null   float64\n",
      " 25  dissimilarity    1306 non-null   float64\n",
      " 26  zsimpson         1306 non-null   float64\n",
      " 27  zentropy         1306 non-null   float64\n",
      " 28  zdds             1306 non-null   float64\n",
      " 29  zdissimilarity   1306 non-null   float64\n",
      " 30  zMAR             1306 non-null   float64\n",
      " 31  zddscount10      1306 non-null   float64\n",
      " 32  zspeciescount    1306 non-null   float64\n",
      " 33  zfd              1306 non-null   float64\n",
      " 34  zn_mgnar         1295 non-null   float64\n",
      " 35  ca_mgnar         1306 non-null   float64\n",
      " 36  fe_mgnar         1306 non-null   float64\n",
      " 37  folate_mcgnar    1306 non-null   float64\n",
      " 38  MAR              1295 non-null   float64\n",
      " 39  meanprob         1306 non-null   float64\n",
      " 40  fd               1303 non-null   float64\n",
      "dtypes: float64(32), int64(6), object(3)\n",
      "memory usage: 428.5+ KB\n"
     ]
    }
   ],
   "source": [
    "sort_df.info()"
   ]
  },
  {
   "cell_type": "code",
   "execution_count": null,
   "id": "19692d63",
   "metadata": {},
   "outputs": [],
   "source": []
  }
 ],
 "metadata": {
  "kernelspec": {
   "display_name": "Python 3 (ipykernel)",
   "language": "python",
   "name": "python3"
  },
  "language_info": {
   "codemirror_mode": {
    "name": "ipython",
    "version": 3
   },
   "file_extension": ".py",
   "mimetype": "text/x-python",
   "name": "python",
   "nbconvert_exporter": "python",
   "pygments_lexer": "ipython3",
   "version": "3.9.12"
  }
 },
 "nbformat": 4,
 "nbformat_minor": 5
}
